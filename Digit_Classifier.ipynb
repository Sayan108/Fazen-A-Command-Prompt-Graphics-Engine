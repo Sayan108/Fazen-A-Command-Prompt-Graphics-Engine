{
  "cells": [
    {
      "cell_type": "markdown",
      "metadata": {
        "id": "view-in-github",
        "colab_type": "text"
      },
      "source": [
        "<a href=\"https://colab.research.google.com/github/Sayan108/Fazen-A-Command-Prompt-Graphics-Engine/blob/master/Digit_Classifier.ipynb\" target=\"_parent\"><img src=\"https://colab.research.google.com/assets/colab-badge.svg\" alt=\"Open In Colab\"/></a>"
      ]
    },
    {
      "cell_type": "code",
      "execution_count": null,
      "id": "3e6b7672",
      "metadata": {
        "id": "3e6b7672"
      },
      "outputs": [],
      "source": [
        "import numpy as np\n",
        "import pandas as pd\n",
        "import matplotlib as mpl\n",
        "import tensorflow as tf\n",
        "from tensorflow import keras"
      ]
    },
    {
      "cell_type": "code",
      "execution_count": null,
      "id": "8c4b6957",
      "metadata": {
        "id": "8c4b6957"
      },
      "outputs": [],
      "source": [
        "%matplotlib inline\n",
        "import matplotlib.pyplot as plt"
      ]
    },
    {
      "cell_type": "code",
      "execution_count": null,
      "id": "fa14cf43",
      "metadata": {
        "id": "fa14cf43"
      },
      "outputs": [],
      "source": [
        "digit_mnist=keras.datasets.mnist"
      ]
    },
    {
      "cell_type": "code",
      "execution_count": null,
      "id": "1add4ea4",
      "metadata": {
        "colab": {
          "base_uri": "https://localhost:8080/"
        },
        "id": "1add4ea4",
        "outputId": "3f7798e7-0494-4b61-e881-7df1faed80d5"
      },
      "outputs": [
        {
          "output_type": "execute_result",
          "data": {
            "text/plain": [
              "<module 'keras.api._v2.keras.datasets.mnist' from '/usr/local/lib/python3.7/dist-packages/keras/api/_v2/keras/datasets/mnist/__init__.py'>"
            ]
          },
          "metadata": {},
          "execution_count": 4
        }
      ],
      "source": [
        "digit_mnist"
      ]
    },
    {
      "cell_type": "code",
      "execution_count": null,
      "id": "6db510bf",
      "metadata": {
        "colab": {
          "base_uri": "https://localhost:8080/"
        },
        "id": "6db510bf",
        "outputId": "1d9274d8-e21b-43f5-bd7c-ff652cb6c07c"
      },
      "outputs": [
        {
          "output_type": "stream",
          "name": "stdout",
          "text": [
            "Downloading data from https://storage.googleapis.com/tensorflow/tf-keras-datasets/mnist.npz\n",
            "11493376/11490434 [==============================] - 0s 0us/step\n",
            "11501568/11490434 [==============================] - 0s 0us/step\n"
          ]
        }
      ],
      "source": [
        "digit_mnist=keras.datasets.mnist\n",
        "(x_train_full,y_train_full),(x_test,y_test)=digit_mnist.load_data()"
      ]
    },
    {
      "cell_type": "code",
      "execution_count": null,
      "id": "b42f0403",
      "metadata": {
        "colab": {
          "base_uri": "https://localhost:8080/",
          "height": 283
        },
        "id": "b42f0403",
        "outputId": "594d0a3d-941a-45eb-f3a7-a4320cf64ee8"
      },
      "outputs": [
        {
          "output_type": "execute_result",
          "data": {
            "text/plain": [
              "<matplotlib.image.AxesImage at 0x7f03be0f0750>"
            ]
          },
          "metadata": {},
          "execution_count": 6
        },
        {
          "output_type": "display_data",
          "data": {
            "text/plain": [
              "<Figure size 432x288 with 1 Axes>"
            ],
            "image/png": "[encoded data removed]"
          },
          "metadata": {
            "needs_background": "light"
          }
        }
      ],
      "source": [
        "plt.imshow(x_train_full[0])"
      ]
    },
    {
      "cell_type": "code",
      "execution_count": null,
      "id": "77bc0f99",
      "metadata": {
        "colab": {
          "base_uri": "https://localhost:8080/"
        },
        "id": "77bc0f99",
        "outputId": "3b6cec64-279d-48fa-be38-25f6dfa15677"
      },
      "outputs": [
        {
          "output_type": "execute_result",
          "data": {
            "text/plain": [
              "5"
            ]
          },
          "metadata": {},
          "execution_count": 7
        }
      ],
      "source": [
        "y_train_full[0]"
      ]
    },
    {
      "cell_type": "code",
      "execution_count": null,
      "id": "baff7997",
      "metadata": {
        "id": "baff7997"
      },
      "outputs": [],
      "source": [
        "class_names=[\"0\",\"1\",\"2\",\"3\",\"4\",\"5\",\"6\",\"7\",\"8\",\"9\"]"
      ]
    },
    {
      "cell_type": "code",
      "execution_count": null,
      "id": "49afcfbb",
      "metadata": {
        "colab": {
          "base_uri": "https://localhost:8080/",
          "height": 36
        },
        "id": "49afcfbb",
        "outputId": "7a238599-211d-4ea3-d4cf-f8f4ecd7615f"
      },
      "outputs": [
        {
          "output_type": "execute_result",
          "data": {
            "text/plain": [
              "'5'"
            ],
            "application/vnd.google.colaboratory.intrinsic+json": {
              "type": "string"
            }
          },
          "metadata": {},
          "execution_count": 9
        }
      ],
      "source": [
        "class_names[y_train_full[0]]"
      ]
    },
    {
      "cell_type": "code",
      "execution_count": null,
      "id": "ef9f4da1",
      "metadata": {
        "colab": {
          "base_uri": "https://localhost:8080/"
        },
        "id": "ef9f4da1",
        "outputId": "b008406e-8c43-4311-ecac-e77126217fc5"
      },
      "outputs": [
        {
          "output_type": "execute_result",
          "data": {
            "text/plain": [
              "array([[  0,   0,   0,   0,   0,   0,   0,   0,   0,   0,   0,   0,   0,\n",
              "          0,   0,   0,   0,   0,   0,   0,   0,   0,   0,   0,   0,   0,\n",
              "          0,   0],\n",
              "       [  0,   0,   0,   0,   0,   0,   0,   0,   0,   0,   0,   0,   0,\n",
              "          0,   0,   0,   0,   0,   0,   0,   0,   0,   0,   0,   0,   0,\n",
              "          0,   0],\n",
              "       [  0,   0,   0,   0,   0,   0,   0,   0,   0,   0,   0,   0,   0,\n",
              "          0,   0,   0,   0,   0,   0,   0,   0,   0,   0,   0,   0,   0,\n",
              "          0,   0],\n",
              "       [  0,   0,   0,   0,   0,   0,   0,   0,   0,   0,   0,   0,   0,\n",
              "          0,   0,   0,   0,   0,   0,   0,   0,   0,   0,   0,   0,   0,\n",
              "          0,   0],\n",
              "       [  0,   0,   0,   0,   0,   0,   0,   0,   0,   0,   0,   0,   0,\n",
              "          0,   0,  51, 159, 253, 159,  50,   0,   0,   0,   0,   0,   0,\n",
              "          0,   0],\n",
              "       [  0,   0,   0,   0,   0,   0,   0,   0,   0,   0,   0,   0,   0,\n",
              "          0,  48, 238, 252, 252, 252, 237,   0,   0,   0,   0,   0,   0,\n",
              "          0,   0],\n",
              "       [  0,   0,   0,   0,   0,   0,   0,   0,   0,   0,   0,   0,   0,\n",
              "         54, 227, 253, 252, 239, 233, 252,  57,   6,   0,   0,   0,   0,\n",
              "          0,   0],\n",
              "       [  0,   0,   0,   0,   0,   0,   0,   0,   0,   0,   0,  10,  60,\n",
              "        224, 252, 253, 252, 202,  84, 252, 253, 122,   0,   0,   0,   0,\n",
              "          0,   0],\n",
              "       [  0,   0,   0,   0,   0,   0,   0,   0,   0,   0,   0, 163, 252,\n",
              "        252, 252, 253, 252, 252,  96, 189, 253, 167,   0,   0,   0,   0,\n",
              "          0,   0],\n",
              "       [  0,   0,   0,   0,   0,   0,   0,   0,   0,   0,  51, 238, 253,\n",
              "        253, 190, 114, 253, 228,  47,  79, 255, 168,   0,   0,   0,   0,\n",
              "          0,   0],\n",
              "       [  0,   0,   0,   0,   0,   0,   0,   0,   0,  48, 238, 252, 252,\n",
              "        179,  12,  75, 121,  21,   0,   0, 253, 243,  50,   0,   0,   0,\n",
              "          0,   0],\n",
              "       [  0,   0,   0,   0,   0,   0,   0,   0,  38, 165, 253, 233, 208,\n",
              "         84,   0,   0,   0,   0,   0,   0, 253, 252, 165,   0,   0,   0,\n",
              "          0,   0],\n",
              "       [  0,   0,   0,   0,   0,   0,   0,   7, 178, 252, 240,  71,  19,\n",
              "         28,   0,   0,   0,   0,   0,   0, 253, 252, 195,   0,   0,   0,\n",
              "          0,   0],\n",
              "       [  0,   0,   0,   0,   0,   0,   0,  57, 252, 252,  63,   0,   0,\n",
              "          0,   0,   0,   0,   0,   0,   0, 253, 252, 195,   0,   0,   0,\n",
              "          0,   0],\n",
              "       [  0,   0,   0,   0,   0,   0,   0, 198, 253, 190,   0,   0,   0,\n",
              "          0,   0,   0,   0,   0,   0,   0, 255, 253, 196,   0,   0,   0,\n",
              "          0,   0],\n",
              "       [  0,   0,   0,   0,   0,   0,  76, 246, 252, 112,   0,   0,   0,\n",
              "          0,   0,   0,   0,   0,   0,   0, 253, 252, 148,   0,   0,   0,\n",
              "          0,   0],\n",
              "       [  0,   0,   0,   0,   0,   0,  85, 252, 230,  25,   0,   0,   0,\n",
              "          0,   0,   0,   0,   0,   7, 135, 253, 186,  12,   0,   0,   0,\n",
              "          0,   0],\n",
              "       [  0,   0,   0,   0,   0,   0,  85, 252, 223,   0,   0,   0,   0,\n",
              "          0,   0,   0,   0,   7, 131, 252, 225,  71,   0,   0,   0,   0,\n",
              "          0,   0],\n",
              "       [  0,   0,   0,   0,   0,   0,  85, 252, 145,   0,   0,   0,   0,\n",
              "          0,   0,   0,  48, 165, 252, 173,   0,   0,   0,   0,   0,   0,\n",
              "          0,   0],\n",
              "       [  0,   0,   0,   0,   0,   0,  86, 253, 225,   0,   0,   0,   0,\n",
              "          0,   0, 114, 238, 253, 162,   0,   0,   0,   0,   0,   0,   0,\n",
              "          0,   0],\n",
              "       [  0,   0,   0,   0,   0,   0,  85, 252, 249, 146,  48,  29,  85,\n",
              "        178, 225, 253, 223, 167,  56,   0,   0,   0,   0,   0,   0,   0,\n",
              "          0,   0],\n",
              "       [  0,   0,   0,   0,   0,   0,  85, 252, 252, 252, 229, 215, 252,\n",
              "        252, 252, 196, 130,   0,   0,   0,   0,   0,   0,   0,   0,   0,\n",
              "          0,   0],\n",
              "       [  0,   0,   0,   0,   0,   0,  28, 199, 252, 252, 253, 252, 252,\n",
              "        233, 145,   0,   0,   0,   0,   0,   0,   0,   0,   0,   0,   0,\n",
              "          0,   0],\n",
              "       [  0,   0,   0,   0,   0,   0,   0,  25, 128, 252, 253, 252, 141,\n",
              "         37,   0,   0,   0,   0,   0,   0,   0,   0,   0,   0,   0,   0,\n",
              "          0,   0],\n",
              "       [  0,   0,   0,   0,   0,   0,   0,   0,   0,   0,   0,   0,   0,\n",
              "          0,   0,   0,   0,   0,   0,   0,   0,   0,   0,   0,   0,   0,\n",
              "          0,   0],\n",
              "       [  0,   0,   0,   0,   0,   0,   0,   0,   0,   0,   0,   0,   0,\n",
              "          0,   0,   0,   0,   0,   0,   0,   0,   0,   0,   0,   0,   0,\n",
              "          0,   0],\n",
              "       [  0,   0,   0,   0,   0,   0,   0,   0,   0,   0,   0,   0,   0,\n",
              "          0,   0,   0,   0,   0,   0,   0,   0,   0,   0,   0,   0,   0,\n",
              "          0,   0],\n",
              "       [  0,   0,   0,   0,   0,   0,   0,   0,   0,   0,   0,   0,   0,\n",
              "          0,   0,   0,   0,   0,   0,   0,   0,   0,   0,   0,   0,   0,\n",
              "          0,   0]], dtype=uint8)"
            ]
          },
          "metadata": {},
          "execution_count": 10
        }
      ],
      "source": [
        "x_train_full[1]"
      ]
    },
    {
      "cell_type": "code",
      "execution_count": null,
      "id": "cc2c4829",
      "metadata": {
        "id": "cc2c4829"
      },
      "outputs": [],
      "source": [
        "x_train_n=x_train_full/255.\n",
        "x_test_n=x_test/255."
      ]
    },
    {
      "cell_type": "code",
      "execution_count": null,
      "id": "af0ce278",
      "metadata": {
        "id": "af0ce278"
      },
      "outputs": [],
      "source": [
        "x_valid,x_train =x_train_n[:6000] , x_train_n[6000:]\n",
        "y_valid,y_train =y_train_full[:6000] , y_train_full[6000:]\n",
        "x_test = x_test_n"
      ]
    },
    {
      "cell_type": "code",
      "execution_count": null,
      "id": "0d8217d7",
      "metadata": {
        "colab": {
          "base_uri": "https://localhost:8080/"
        },
        "id": "0d8217d7",
        "outputId": "555cc510-53fd-4b93-98f6-84d3f91c9ec0"
      },
      "outputs": [
        {
          "output_type": "execute_result",
          "data": {
            "text/plain": [
              "array([[0.        , 0.        , 0.        , 0.        , 0.        ,\n",
              "        0.        , 0.        , 0.        , 0.        , 0.        ,\n",
              "        0.        , 0.        , 0.        , 0.        , 0.        ,\n",
              "        0.        , 0.        , 0.        , 0.        , 0.        ,\n",
              "        0.        , 0.        , 0.        , 0.        , 0.        ,\n",
              "        0.        , 0.        , 0.        ],\n",
              "       [0.        , 0.        , 0.        , 0.        , 0.        ,\n",
              "        0.        , 0.        , 0.        , 0.        , 0.        ,\n",
              "        0.        , 0.        , 0.        , 0.        , 0.        ,\n",
              "        0.        , 0.        , 0.        , 0.        , 0.        ,\n",
              "        0.        , 0.        , 0.        , 0.        , 0.        ,\n",
              "        0.        , 0.        , 0.        ],\n",
              "       [0.        , 0.        , 0.        , 0.        , 0.        ,\n",
              "        0.        , 0.        , 0.        , 0.        , 0.        ,\n",
              "        0.        , 0.        , 0.        , 0.        , 0.        ,\n",
              "        0.        , 0.        , 0.        , 0.        , 0.        ,\n",
              "        0.        , 0.        , 0.        , 0.        , 0.        ,\n",
              "        0.        , 0.        , 0.        ],\n",
              "       [0.        , 0.        , 0.        , 0.        , 0.        ,\n",
              "        0.        , 0.        , 0.        , 0.        , 0.        ,\n",
              "        0.        , 0.        , 0.        , 0.        , 0.        ,\n",
              "        0.        , 0.        , 0.        , 0.        , 0.        ,\n",
              "        0.        , 0.        , 0.        , 0.        , 0.        ,\n",
              "        0.        , 0.        , 0.        ],\n",
              "       [0.        , 0.        , 0.        , 0.        , 0.        ,\n",
              "        0.        , 0.        , 0.        , 0.        , 0.        ,\n",
              "        0.        , 0.        , 0.        , 0.        , 0.        ,\n",
              "        0.        , 0.        , 0.        , 0.        , 0.        ,\n",
              "        0.        , 0.        , 0.        , 0.        , 0.        ,\n",
              "        0.        , 0.        , 0.        ],\n",
              "       [0.        , 0.        , 0.        , 0.        , 0.        ,\n",
              "        0.        , 0.        , 0.        , 0.        , 0.        ,\n",
              "        0.        , 0.        , 0.01176471, 0.07058824, 0.07058824,\n",
              "        0.07058824, 0.49411765, 0.53333333, 0.68627451, 0.10196078,\n",
              "        0.65098039, 1.        , 0.96862745, 0.49803922, 0.        ,\n",
              "        0.        , 0.        , 0.        ],\n",
              "       [0.        , 0.        , 0.        , 0.        , 0.        ,\n",
              "        0.        , 0.        , 0.        , 0.11764706, 0.14117647,\n",
              "        0.36862745, 0.60392157, 0.66666667, 0.99215686, 0.99215686,\n",
              "        0.99215686, 0.99215686, 0.99215686, 0.88235294, 0.6745098 ,\n",
              "        0.99215686, 0.94901961, 0.76470588, 0.25098039, 0.        ,\n",
              "        0.        , 0.        , 0.        ],\n",
              "       [0.        , 0.        , 0.        , 0.        , 0.        ,\n",
              "        0.        , 0.        , 0.19215686, 0.93333333, 0.99215686,\n",
              "        0.99215686, 0.99215686, 0.99215686, 0.99215686, 0.99215686,\n",
              "        0.99215686, 0.99215686, 0.98431373, 0.36470588, 0.32156863,\n",
              "        0.32156863, 0.21960784, 0.15294118, 0.        , 0.        ,\n",
              "        0.        , 0.        , 0.        ],\n",
              "       [0.        , 0.        , 0.        , 0.        , 0.        ,\n",
              "        0.        , 0.        , 0.07058824, 0.85882353, 0.99215686,\n",
              "        0.99215686, 0.99215686, 0.99215686, 0.99215686, 0.77647059,\n",
              "        0.71372549, 0.96862745, 0.94509804, 0.        , 0.        ,\n",
              "        0.        , 0.        , 0.        , 0.        , 0.        ,\n",
              "        0.        , 0.        , 0.        ],\n",
              "       [0.        , 0.        , 0.        , 0.        , 0.        ,\n",
              "        0.        , 0.        , 0.        , 0.31372549, 0.61176471,\n",
              "        0.41960784, 0.99215686, 0.99215686, 0.80392157, 0.04313725,\n",
              "        0.        , 0.16862745, 0.60392157, 0.        , 0.        ,\n",
              "        0.        , 0.        , 0.        , 0.        , 0.        ,\n",
              "        0.        , 0.        , 0.        ],\n",
              "       [0.        , 0.        , 0.        , 0.        , 0.        ,\n",
              "        0.        , 0.        , 0.        , 0.        , 0.05490196,\n",
              "        0.00392157, 0.60392157, 0.99215686, 0.35294118, 0.        ,\n",
              "        0.        , 0.        , 0.        , 0.        , 0.        ,\n",
              "        0.        , 0.        , 0.        , 0.        , 0.        ,\n",
              "        0.        , 0.        , 0.        ],\n",
              "       [0.        , 0.        , 0.        , 0.        , 0.        ,\n",
              "        0.        , 0.        , 0.        , 0.        , 0.        ,\n",
              "        0.        , 0.54509804, 0.99215686, 0.74509804, 0.00784314,\n",
              "        0.        , 0.        , 0.        , 0.        , 0.        ,\n",
              "        0.        , 0.        , 0.        , 0.        , 0.        ,\n",
              "        0.        , 0.        , 0.        ],\n",
              "       [0.        , 0.        , 0.        , 0.        , 0.        ,\n",
              "        0.        , 0.        , 0.        , 0.        , 0.        ,\n",
              "        0.        , 0.04313725, 0.74509804, 0.99215686, 0.2745098 ,\n",
              "        0.        , 0.        , 0.        , 0.        , 0.        ,\n",
              "        0.        , 0.        , 0.        , 0.        , 0.        ,\n",
              "        0.        , 0.        , 0.        ],\n",
              "       [0.        , 0.        , 0.        , 0.        , 0.        ,\n",
              "        0.        , 0.        , 0.        , 0.        , 0.        ,\n",
              "        0.        , 0.        , 0.1372549 , 0.94509804, 0.88235294,\n",
              "        0.62745098, 0.42352941, 0.00392157, 0.        , 0.        ,\n",
              "        0.        , 0.        , 0.        , 0.        , 0.        ,\n",
              "        0.        , 0.        , 0.        ],\n",
              "       [0.        , 0.        , 0.        , 0.        , 0.        ,\n",
              "        0.        , 0.        , 0.        , 0.        , 0.        ,\n",
              "        0.        , 0.        , 0.        , 0.31764706, 0.94117647,\n",
              "        0.99215686, 0.99215686, 0.46666667, 0.09803922, 0.        ,\n",
              "        0.        , 0.        , 0.        , 0.        , 0.        ,\n",
              "        0.        , 0.        , 0.        ],\n",
              "       [0.        , 0.        , 0.        , 0.        , 0.        ,\n",
              "        0.        , 0.        , 0.        , 0.        , 0.        ,\n",
              "        0.        , 0.        , 0.        , 0.        , 0.17647059,\n",
              "        0.72941176, 0.99215686, 0.99215686, 0.58823529, 0.10588235,\n",
              "        0.        , 0.        , 0.        , 0.        , 0.        ,\n",
              "        0.        , 0.        , 0.        ],\n",
              "       [0.        , 0.        , 0.        , 0.        , 0.        ,\n",
              "        0.        , 0.        , 0.        , 0.        , 0.        ,\n",
              "        0.        , 0.        , 0.        , 0.        , 0.        ,\n",
              "        0.0627451 , 0.36470588, 0.98823529, 0.99215686, 0.73333333,\n",
              "        0.        , 0.        , 0.        , 0.        , 0.        ,\n",
              "        0.        , 0.        , 0.        ],\n",
              "       [0.        , 0.        , 0.        , 0.        , 0.        ,\n",
              "        0.        , 0.        , 0.        , 0.        , 0.        ,\n",
              "        0.        , 0.        , 0.        , 0.        , 0.        ,\n",
              "        0.        , 0.        , 0.97647059, 0.99215686, 0.97647059,\n",
              "        0.25098039, 0.        , 0.        , 0.        , 0.        ,\n",
              "        0.        , 0.        , 0.        ],\n",
              "       [0.        , 0.        , 0.        , 0.        , 0.        ,\n",
              "        0.        , 0.        , 0.        , 0.        , 0.        ,\n",
              "        0.        , 0.        , 0.        , 0.        , 0.18039216,\n",
              "        0.50980392, 0.71764706, 0.99215686, 0.99215686, 0.81176471,\n",
              "        0.00784314, 0.        , 0.        , 0.        , 0.        ,\n",
              "        0.        , 0.        , 0.        ],\n",
              "       [0.        , 0.        , 0.        , 0.        , 0.        ,\n",
              "        0.        , 0.        , 0.        , 0.        , 0.        ,\n",
              "        0.        , 0.        , 0.15294118, 0.58039216, 0.89803922,\n",
              "        0.99215686, 0.99215686, 0.99215686, 0.98039216, 0.71372549,\n",
              "        0.        , 0.        , 0.        , 0.        , 0.        ,\n",
              "        0.        , 0.        , 0.        ],\n",
              "       [0.        , 0.        , 0.        , 0.        , 0.        ,\n",
              "        0.        , 0.        , 0.        , 0.        , 0.        ,\n",
              "        0.09411765, 0.44705882, 0.86666667, 0.99215686, 0.99215686,\n",
              "        0.99215686, 0.99215686, 0.78823529, 0.30588235, 0.        ,\n",
              "        0.        , 0.        , 0.        , 0.        , 0.        ,\n",
              "        0.        , 0.        , 0.        ],\n",
              "       [0.        , 0.        , 0.        , 0.        , 0.        ,\n",
              "        0.        , 0.        , 0.        , 0.09019608, 0.25882353,\n",
              "        0.83529412, 0.99215686, 0.99215686, 0.99215686, 0.99215686,\n",
              "        0.77647059, 0.31764706, 0.00784314, 0.        , 0.        ,\n",
              "        0.        , 0.        , 0.        , 0.        , 0.        ,\n",
              "        0.        , 0.        , 0.        ],\n",
              "       [0.        , 0.        , 0.        , 0.        , 0.        ,\n",
              "        0.        , 0.07058824, 0.67058824, 0.85882353, 0.99215686,\n",
              "        0.99215686, 0.99215686, 0.99215686, 0.76470588, 0.31372549,\n",
              "        0.03529412, 0.        , 0.        , 0.        , 0.        ,\n",
              "        0.        , 0.        , 0.        , 0.        , 0.        ,\n",
              "        0.        , 0.        , 0.        ],\n",
              "       [0.        , 0.        , 0.        , 0.        , 0.21568627,\n",
              "        0.6745098 , 0.88627451, 0.99215686, 0.99215686, 0.99215686,\n",
              "        0.99215686, 0.95686275, 0.52156863, 0.04313725, 0.        ,\n",
              "        0.        , 0.        , 0.        , 0.        , 0.        ,\n",
              "        0.        , 0.        , 0.        , 0.        , 0.        ,\n",
              "        0.        , 0.        , 0.        ],\n",
              "       [0.        , 0.        , 0.        , 0.        , 0.53333333,\n",
              "        0.99215686, 0.99215686, 0.99215686, 0.83137255, 0.52941176,\n",
              "        0.51764706, 0.0627451 , 0.        , 0.        , 0.        ,\n",
              "        0.        , 0.        , 0.        , 0.        , 0.        ,\n",
              "        0.        , 0.        , 0.        , 0.        , 0.        ,\n",
              "        0.        , 0.        , 0.        ],\n",
              "       [0.        , 0.        , 0.        , 0.        , 0.        ,\n",
              "        0.        , 0.        , 0.        , 0.        , 0.        ,\n",
              "        0.        , 0.        , 0.        , 0.        , 0.        ,\n",
              "        0.        , 0.        , 0.        , 0.        , 0.        ,\n",
              "        0.        , 0.        , 0.        , 0.        , 0.        ,\n",
              "        0.        , 0.        , 0.        ],\n",
              "       [0.        , 0.        , 0.        , 0.        , 0.        ,\n",
              "        0.        , 0.        , 0.        , 0.        , 0.        ,\n",
              "        0.        , 0.        , 0.        , 0.        , 0.        ,\n",
              "        0.        , 0.        , 0.        , 0.        , 0.        ,\n",
              "        0.        , 0.        , 0.        , 0.        , 0.        ,\n",
              "        0.        , 0.        , 0.        ],\n",
              "       [0.        , 0.        , 0.        , 0.        , 0.        ,\n",
              "        0.        , 0.        , 0.        , 0.        , 0.        ,\n",
              "        0.        , 0.        , 0.        , 0.        , 0.        ,\n",
              "        0.        , 0.        , 0.        , 0.        , 0.        ,\n",
              "        0.        , 0.        , 0.        , 0.        , 0.        ,\n",
              "        0.        , 0.        , 0.        ]])"
            ]
          },
          "metadata": {},
          "execution_count": 13
        }
      ],
      "source": [
        "x_valid[0]"
      ]
    },
    {
      "cell_type": "code",
      "execution_count": null,
      "id": "7787d014",
      "metadata": {
        "id": "7787d014"
      },
      "outputs": [],
      "source": [
        "np.random.seed(42)\n",
        "tf.random.set_seed(42)"
      ]
    },
    {
      "cell_type": "code",
      "execution_count": null,
      "id": "bbb349e9",
      "metadata": {
        "id": "bbb349e9"
      },
      "outputs": [],
      "source": [
        "model=keras.models.Sequential()\n",
        "model.add(keras.layers.Flatten(input_shape=[28,28]))\n",
        "model.add(keras.layers.Dense(200,activation=\"relu\"))\n",
        "model.add(keras.layers.Dense(100,activation=\"relu\"))\n",
        "model.add(keras.layers.Dense(10,activation=\"softmax\"))"
      ]
    },
    {
      "cell_type": "code",
      "execution_count": null,
      "id": "ee4abd66",
      "metadata": {
        "colab": {
          "base_uri": "https://localhost:8080/"
        },
        "id": "ee4abd66",
        "outputId": "43cf3799-f974-49d8-be62-cb303501f2f9"
      },
      "outputs": [
        {
          "output_type": "stream",
          "name": "stdout",
          "text": [
            "Model: \"sequential\"\n",
            "_________________________________________________________________\n",
            " Layer (type)                Output Shape              Param #   \n",
            "=================================================================\n",
            " flatten (Flatten)           (None, 784)               0         \n",
            "                                                                 \n",
            " dense (Dense)               (None, 200)               157000    \n",
            "                                                                 \n",
            " dense_1 (Dense)             (None, 100)               20100     \n",
            "                                                                 \n",
            " dense_2 (Dense)             (None, 10)                1010      \n",
            "                                                                 \n",
            "=================================================================\n",
            "Total params: 178,110\n",
            "Trainable params: 178,110\n",
            "Non-trainable params: 0\n",
            "_________________________________________________________________\n"
          ]
        }
      ],
      "source": [
        "model.summary()"
      ]
    },
    {
      "cell_type": "code",
      "execution_count": null,
      "id": "bac94018",
      "metadata": {
        "colab": {
          "base_uri": "https://localhost:8080/",
          "height": 466
        },
        "id": "bac94018",
        "outputId": "f920d304-d715-4af9-a3cf-7f6a8aaa7cbe"
      },
      "outputs": [
        {
          "output_type": "execute_result",
          "data": {
            "text/plain": [
              "<IPython.core.display.Image object>"
            ],
            "image/png": "[encoded data removed]"
          },
          "metadata": {},
          "execution_count": 17
        }
      ],
      "source": [
        "import pydot\n",
        "keras.utils.plot_model(model)"
      ]
    },
    {
      "cell_type": "code",
      "execution_count": null,
      "id": "92770b63",
      "metadata": {
        "id": "92770b63"
      },
      "outputs": [],
      "source": [
        "weights,biases=model.layers[1].get_weights()"
      ]
    },
    {
      "cell_type": "code",
      "execution_count": null,
      "id": "12b0789e",
      "metadata": {
        "colab": {
          "base_uri": "https://localhost:8080/"
        },
        "id": "12b0789e",
        "outputId": "4ad774d9-c149-41aa-acb4-81ce7a9ab690"
      },
      "outputs": [
        {
          "output_type": "execute_result",
          "data": {
            "text/plain": [
              "array([[ 0.02570029, -0.00921319, -0.02297589, ...,  0.03759523,\n",
              "         0.01990343, -0.00419658],\n",
              "       [ 0.0493257 ,  0.07532704,  0.04591972, ...,  0.01272719,\n",
              "         0.07017377,  0.06893378],\n",
              "       [-0.00902112,  0.0490617 ,  0.01508749, ...,  0.00632862,\n",
              "        -0.02900814, -0.04371899],\n",
              "       ...,\n",
              "       [ 0.06044598,  0.02830634,  0.04788385, ..., -0.02156743,\n",
              "        -0.06206664, -0.06688078],\n",
              "       [ 0.03822813,  0.07278952,  0.02177001, ..., -0.04696669,\n",
              "        -0.04292265,  0.0316055 ],\n",
              "       [-0.01534326, -0.03178874, -0.04308994, ...,  0.00643031,\n",
              "         0.02572545, -0.03443564]], dtype=float32)"
            ]
          },
          "metadata": {},
          "execution_count": 19
        }
      ],
      "source": [
        "weights"
      ]
    },
    {
      "cell_type": "code",
      "execution_count": null,
      "id": "9822c39f",
      "metadata": {
        "colab": {
          "base_uri": "https://localhost:8080/"
        },
        "id": "9822c39f",
        "outputId": "46c6cbd4-30df-4207-8e52-548e1b641724"
      },
      "outputs": [
        {
          "output_type": "execute_result",
          "data": {
            "text/plain": [
              "(784, 200)"
            ]
          },
          "metadata": {},
          "execution_count": 20
        }
      ],
      "source": [
        "weights.shape"
      ]
    },
    {
      "cell_type": "code",
      "execution_count": null,
      "id": "3b01278d",
      "metadata": {
        "colab": {
          "base_uri": "https://localhost:8080/"
        },
        "id": "3b01278d",
        "outputId": "7f3334d5-0708-499b-9b23-d68b05bcd3a5"
      },
      "outputs": [
        {
          "output_type": "execute_result",
          "data": {
            "text/plain": [
              "array([0., 0., 0., 0., 0., 0., 0., 0., 0., 0., 0., 0., 0., 0., 0., 0., 0.,\n",
              "       0., 0., 0., 0., 0., 0., 0., 0., 0., 0., 0., 0., 0., 0., 0., 0., 0.,\n",
              "       0., 0., 0., 0., 0., 0., 0., 0., 0., 0., 0., 0., 0., 0., 0., 0., 0.,\n",
              "       0., 0., 0., 0., 0., 0., 0., 0., 0., 0., 0., 0., 0., 0., 0., 0., 0.,\n",
              "       0., 0., 0., 0., 0., 0., 0., 0., 0., 0., 0., 0., 0., 0., 0., 0., 0.,\n",
              "       0., 0., 0., 0., 0., 0., 0., 0., 0., 0., 0., 0., 0., 0., 0., 0., 0.,\n",
              "       0., 0., 0., 0., 0., 0., 0., 0., 0., 0., 0., 0., 0., 0., 0., 0., 0.,\n",
              "       0., 0., 0., 0., 0., 0., 0., 0., 0., 0., 0., 0., 0., 0., 0., 0., 0.,\n",
              "       0., 0., 0., 0., 0., 0., 0., 0., 0., 0., 0., 0., 0., 0., 0., 0., 0.,\n",
              "       0., 0., 0., 0., 0., 0., 0., 0., 0., 0., 0., 0., 0., 0., 0., 0., 0.,\n",
              "       0., 0., 0., 0., 0., 0., 0., 0., 0., 0., 0., 0., 0., 0., 0., 0., 0.,\n",
              "       0., 0., 0., 0., 0., 0., 0., 0., 0., 0., 0., 0., 0.], dtype=float32)"
            ]
          },
          "metadata": {},
          "execution_count": 21
        }
      ],
      "source": [
        "biases"
      ]
    },
    {
      "cell_type": "code",
      "execution_count": null,
      "id": "fb2f222c",
      "metadata": {
        "colab": {
          "base_uri": "https://localhost:8080/"
        },
        "id": "fb2f222c",
        "outputId": "12f035ec-830f-4902-8384-01ae150481d2"
      },
      "outputs": [
        {
          "output_type": "execute_result",
          "data": {
            "text/plain": [
              "(200,)"
            ]
          },
          "metadata": {},
          "execution_count": 22
        }
      ],
      "source": [
        "biases.shape"
      ]
    },
    {
      "cell_type": "code",
      "execution_count": null,
      "id": "ede350fa",
      "metadata": {
        "id": "ede350fa"
      },
      "outputs": [],
      "source": [
        "model.compile(loss=\"sparse_categorical_crossentropy\" ,\n",
        "             optimizer=\"sgd\",\n",
        "             metrics=[\"accuracy\"])"
      ]
    },
    {
      "cell_type": "code",
      "execution_count": null,
      "id": "a6d8fa47",
      "metadata": {
        "colab": {
          "base_uri": "https://localhost:8080/"
        },
        "id": "a6d8fa47",
        "outputId": "58f6dbba-4b63-4f71-914a-65adb4aece58"
      },
      "outputs": [
        {
          "output_type": "stream",
          "name": "stdout",
          "text": [
            "Epoch 1/60\n",
            "1688/1688 [==============================] - 8s 4ms/step - loss: 0.6607 - accuracy: 0.8267 - val_loss: 0.3216 - val_accuracy: 0.9125\n",
            "Epoch 2/60\n",
            "1688/1688 [==============================] - 7s 4ms/step - loss: 0.3006 - accuracy: 0.9141 - val_loss: 0.2585 - val_accuracy: 0.9283\n",
            "Epoch 3/60\n",
            "1688/1688 [==============================] - 6s 4ms/step - loss: 0.2488 - accuracy: 0.9292 - val_loss: 0.2254 - val_accuracy: 0.9383\n",
            "Epoch 4/60\n",
            "1688/1688 [==============================] - 6s 4ms/step - loss: 0.2151 - accuracy: 0.9390 - val_loss: 0.1961 - val_accuracy: 0.9442\n",
            "Epoch 5/60\n",
            "1688/1688 [==============================] - 6s 4ms/step - loss: 0.1893 - accuracy: 0.9461 - val_loss: 0.1790 - val_accuracy: 0.9485\n",
            "Epoch 6/60\n",
            "1688/1688 [==============================] - 6s 4ms/step - loss: 0.1690 - accuracy: 0.9517 - val_loss: 0.1637 - val_accuracy: 0.9523\n",
            "Epoch 7/60\n",
            "1688/1688 [==============================] - 7s 4ms/step - loss: 0.1521 - accuracy: 0.9569 - val_loss: 0.1482 - val_accuracy: 0.9590\n",
            "Epoch 8/60\n",
            "1688/1688 [==============================] - 7s 4ms/step - loss: 0.1378 - accuracy: 0.9611 - val_loss: 0.1416 - val_accuracy: 0.9610\n",
            "Epoch 9/60\n",
            "1688/1688 [==============================] - 6s 4ms/step - loss: 0.1260 - accuracy: 0.9641 - val_loss: 0.1316 - val_accuracy: 0.9647\n",
            "Epoch 10/60\n",
            "1688/1688 [==============================] - 6s 3ms/step - loss: 0.1157 - accuracy: 0.9673 - val_loss: 0.1272 - val_accuracy: 0.9637\n",
            "Epoch 11/60\n",
            "1688/1688 [==============================] - 7s 4ms/step - loss: 0.1066 - accuracy: 0.9698 - val_loss: 0.1157 - val_accuracy: 0.9675\n",
            "Epoch 12/60\n",
            "1688/1688 [==============================] - 7s 4ms/step - loss: 0.0991 - accuracy: 0.9724 - val_loss: 0.1118 - val_accuracy: 0.9697\n",
            "Epoch 13/60\n",
            "1688/1688 [==============================] - 7s 4ms/step - loss: 0.0917 - accuracy: 0.9747 - val_loss: 0.1057 - val_accuracy: 0.9710\n",
            "Epoch 14/60\n",
            "1688/1688 [==============================] - 7s 4ms/step - loss: 0.0857 - accuracy: 0.9766 - val_loss: 0.1005 - val_accuracy: 0.9718\n",
            "Epoch 15/60\n",
            "1688/1688 [==============================] - 7s 4ms/step - loss: 0.0802 - accuracy: 0.9777 - val_loss: 0.0990 - val_accuracy: 0.9722\n",
            "Epoch 16/60\n",
            "1688/1688 [==============================] - 7s 4ms/step - loss: 0.0752 - accuracy: 0.9793 - val_loss: 0.0944 - val_accuracy: 0.9728\n",
            "Epoch 17/60\n",
            "1688/1688 [==============================] - 7s 4ms/step - loss: 0.0707 - accuracy: 0.9810 - val_loss: 0.0934 - val_accuracy: 0.9730\n",
            "Epoch 18/60\n",
            "1688/1688 [==============================] - 7s 4ms/step - loss: 0.0659 - accuracy: 0.9819 - val_loss: 0.0893 - val_accuracy: 0.9753\n",
            "Epoch 19/60\n",
            "1688/1688 [==============================] - 6s 4ms/step - loss: 0.0624 - accuracy: 0.9829 - val_loss: 0.0893 - val_accuracy: 0.9735\n",
            "Epoch 20/60\n",
            "1688/1688 [==============================] - 6s 4ms/step - loss: 0.0588 - accuracy: 0.9841 - val_loss: 0.0874 - val_accuracy: 0.9753\n",
            "Epoch 21/60\n",
            "1688/1688 [==============================] - 6s 4ms/step - loss: 0.0555 - accuracy: 0.9851 - val_loss: 0.0863 - val_accuracy: 0.9757\n",
            "Epoch 22/60\n",
            "1688/1688 [==============================] - 6s 4ms/step - loss: 0.0525 - accuracy: 0.9860 - val_loss: 0.0838 - val_accuracy: 0.9760\n",
            "Epoch 23/60\n",
            "1688/1688 [==============================] - 6s 4ms/step - loss: 0.0496 - accuracy: 0.9865 - val_loss: 0.0829 - val_accuracy: 0.9765\n",
            "Epoch 24/60\n",
            "1688/1688 [==============================] - 8s 5ms/step - loss: 0.0468 - accuracy: 0.9874 - val_loss: 0.0824 - val_accuracy: 0.9755\n",
            "Epoch 25/60\n",
            "1688/1688 [==============================] - 6s 3ms/step - loss: 0.0443 - accuracy: 0.9884 - val_loss: 0.0833 - val_accuracy: 0.9745\n",
            "Epoch 26/60\n",
            "1688/1688 [==============================] - 6s 3ms/step - loss: 0.0420 - accuracy: 0.9888 - val_loss: 0.0812 - val_accuracy: 0.9763\n",
            "Epoch 27/60\n",
            "1688/1688 [==============================] - 5s 3ms/step - loss: 0.0398 - accuracy: 0.9894 - val_loss: 0.0772 - val_accuracy: 0.9770\n",
            "Epoch 28/60\n",
            "1688/1688 [==============================] - 5s 3ms/step - loss: 0.0378 - accuracy: 0.9902 - val_loss: 0.0772 - val_accuracy: 0.9768\n",
            "Epoch 29/60\n",
            "1688/1688 [==============================] - 5s 3ms/step - loss: 0.0358 - accuracy: 0.9907 - val_loss: 0.0760 - val_accuracy: 0.9777\n",
            "Epoch 30/60\n",
            "1688/1688 [==============================] - 5s 3ms/step - loss: 0.0338 - accuracy: 0.9916 - val_loss: 0.0786 - val_accuracy: 0.9767\n",
            "Epoch 31/60\n",
            "1688/1688 [==============================] - 6s 4ms/step - loss: 0.0322 - accuracy: 0.9921 - val_loss: 0.0752 - val_accuracy: 0.9775\n",
            "Epoch 32/60\n",
            "1688/1688 [==============================] - 6s 3ms/step - loss: 0.0304 - accuracy: 0.9927 - val_loss: 0.0774 - val_accuracy: 0.9777\n",
            "Epoch 33/60\n",
            "1688/1688 [==============================] - 6s 4ms/step - loss: 0.0289 - accuracy: 0.9931 - val_loss: 0.0764 - val_accuracy: 0.9778\n",
            "Epoch 34/60\n",
            "1688/1688 [==============================] - 6s 4ms/step - loss: 0.0274 - accuracy: 0.9938 - val_loss: 0.0765 - val_accuracy: 0.9775\n",
            "Epoch 35/60\n",
            "1688/1688 [==============================] - 5s 3ms/step - loss: 0.0260 - accuracy: 0.9941 - val_loss: 0.0749 - val_accuracy: 0.9782\n",
            "Epoch 36/60\n",
            "1688/1688 [==============================] - 5s 3ms/step - loss: 0.0246 - accuracy: 0.9946 - val_loss: 0.0798 - val_accuracy: 0.9767\n",
            "Epoch 37/60\n",
            "1688/1688 [==============================] - 5s 3ms/step - loss: 0.0237 - accuracy: 0.9945 - val_loss: 0.0753 - val_accuracy: 0.9778\n",
            "Epoch 38/60\n",
            "1688/1688 [==============================] - 5s 3ms/step - loss: 0.0223 - accuracy: 0.9954 - val_loss: 0.0758 - val_accuracy: 0.9780\n",
            "Epoch 39/60\n",
            "1688/1688 [==============================] - 5s 3ms/step - loss: 0.0212 - accuracy: 0.9959 - val_loss: 0.0750 - val_accuracy: 0.9778\n",
            "Epoch 40/60\n",
            "1688/1688 [==============================] - 5s 3ms/step - loss: 0.0202 - accuracy: 0.9961 - val_loss: 0.0756 - val_accuracy: 0.9780\n",
            "Epoch 41/60\n",
            "1688/1688 [==============================] - 5s 3ms/step - loss: 0.0191 - accuracy: 0.9968 - val_loss: 0.0752 - val_accuracy: 0.9783\n",
            "Epoch 42/60\n",
            "1688/1688 [==============================] - 5s 3ms/step - loss: 0.0183 - accuracy: 0.9969 - val_loss: 0.0769 - val_accuracy: 0.9780\n",
            "Epoch 43/60\n",
            "1688/1688 [==============================] - 6s 3ms/step - loss: 0.0174 - accuracy: 0.9971 - val_loss: 0.0821 - val_accuracy: 0.9763\n",
            "Epoch 44/60\n",
            "1688/1688 [==============================] - 6s 4ms/step - loss: 0.0166 - accuracy: 0.9973 - val_loss: 0.0755 - val_accuracy: 0.9783\n",
            "Epoch 45/60\n",
            "1688/1688 [==============================] - 5s 3ms/step - loss: 0.0157 - accuracy: 0.9977 - val_loss: 0.0756 - val_accuracy: 0.9777\n",
            "Epoch 46/60\n",
            "1688/1688 [==============================] - 5s 3ms/step - loss: 0.0151 - accuracy: 0.9979 - val_loss: 0.0761 - val_accuracy: 0.9780\n",
            "Epoch 47/60\n",
            "1688/1688 [==============================] - 6s 3ms/step - loss: 0.0143 - accuracy: 0.9980 - val_loss: 0.0766 - val_accuracy: 0.9773\n",
            "Epoch 48/60\n",
            "1688/1688 [==============================] - 6s 3ms/step - loss: 0.0137 - accuracy: 0.9983 - val_loss: 0.0769 - val_accuracy: 0.9772\n",
            "Epoch 49/60\n",
            "1688/1688 [==============================] - 6s 3ms/step - loss: 0.0130 - accuracy: 0.9982 - val_loss: 0.0776 - val_accuracy: 0.9775\n",
            "Epoch 50/60\n",
            "1688/1688 [==============================] - 6s 3ms/step - loss: 0.0124 - accuracy: 0.9985 - val_loss: 0.0790 - val_accuracy: 0.9775\n",
            "Epoch 51/60\n",
            "1688/1688 [==============================] - 5s 3ms/step - loss: 0.0119 - accuracy: 0.9986 - val_loss: 0.0768 - val_accuracy: 0.9777\n",
            "Epoch 52/60\n",
            "1688/1688 [==============================] - 5s 3ms/step - loss: 0.0114 - accuracy: 0.9988 - val_loss: 0.0760 - val_accuracy: 0.9778\n",
            "Epoch 53/60\n",
            "1688/1688 [==============================] - 6s 4ms/step - loss: 0.0109 - accuracy: 0.9988 - val_loss: 0.0778 - val_accuracy: 0.9780\n",
            "Epoch 54/60\n",
            "1688/1688 [==============================] - 6s 4ms/step - loss: 0.0105 - accuracy: 0.9989 - val_loss: 0.0761 - val_accuracy: 0.9790\n",
            "Epoch 55/60\n",
            "1688/1688 [==============================] - 6s 3ms/step - loss: 0.0100 - accuracy: 0.9991 - val_loss: 0.0779 - val_accuracy: 0.9777\n",
            "Epoch 56/60\n",
            "1688/1688 [==============================] - 5s 3ms/step - loss: 0.0095 - accuracy: 0.9991 - val_loss: 0.0788 - val_accuracy: 0.9782\n",
            "Epoch 57/60\n",
            "1688/1688 [==============================] - 6s 4ms/step - loss: 0.0091 - accuracy: 0.9993 - val_loss: 0.0792 - val_accuracy: 0.9772\n",
            "Epoch 58/60\n",
            "1688/1688 [==============================] - 6s 4ms/step - loss: 0.0088 - accuracy: 0.9992 - val_loss: 0.0774 - val_accuracy: 0.9780\n",
            "Epoch 59/60\n",
            "1688/1688 [==============================] - 7s 4ms/step - loss: 0.0085 - accuracy: 0.9994 - val_loss: 0.0798 - val_accuracy: 0.9773\n",
            "Epoch 60/60\n",
            "1688/1688 [==============================] - 6s 3ms/step - loss: 0.0081 - accuracy: 0.9993 - val_loss: 0.0804 - val_accuracy: 0.9778\n"
          ]
        }
      ],
      "source": [
        "model_history=model.fit(x_train,y_train,epochs=60,\n",
        "                       validation_data=(x_valid,y_valid))"
      ]
    },
    {
      "cell_type": "code",
      "execution_count": 25,
      "id": "17bfb29e",
      "metadata": {
        "id": "17bfb29e",
        "outputId": "cdfb7e8e-2d95-4de7-8113-d53f68ecad10",
        "colab": {
          "base_uri": "https://localhost:8080/"
        }
      },
      "outputs": [
        {
          "output_type": "execute_result",
          "data": {
            "text/plain": [
              "{'epochs': 60, 'steps': 1688, 'verbose': 1}"
            ]
          },
          "metadata": {},
          "execution_count": 25
        }
      ],
      "source": [
        "model_history.params"
      ]
    },
    {
      "cell_type": "code",
      "execution_count": 26,
      "id": "c52295ac",
      "metadata": {
        "id": "c52295ac",
        "outputId": "ceaee923-e0dd-4512-a6d7-87b776355379",
        "colab": {
          "base_uri": "https://localhost:8080/"
        }
      },
      "outputs": [
        {
          "output_type": "execute_result",
          "data": {
            "text/plain": [
              "{'accuracy': [0.8267222046852112,\n",
              "  0.9140740633010864,\n",
              "  0.9292222261428833,\n",
              "  0.9390000104904175,\n",
              "  0.9461296200752258,\n",
              "  0.9517407417297363,\n",
              "  0.9569073915481567,\n",
              "  0.9611111283302307,\n",
              "  0.964129626750946,\n",
              "  0.9672777652740479,\n",
              "  0.9697592854499817,\n",
              "  0.9723703861236572,\n",
              "  0.9746851921081543,\n",
              "  0.9765740633010864,\n",
              "  0.9777407646179199,\n",
              "  0.9793333411216736,\n",
              "  0.9809814691543579,\n",
              "  0.9819074273109436,\n",
              "  0.9829444289207458,\n",
              "  0.9841481447219849,\n",
              "  0.9850925803184509,\n",
              "  0.9859814643859863,\n",
              "  0.9864814877510071,\n",
              "  0.987407386302948,\n",
              "  0.988444447517395,\n",
              "  0.9888333082199097,\n",
              "  0.9893703460693359,\n",
              "  0.9902222156524658,\n",
              "  0.9907222390174866,\n",
              "  0.9915555715560913,\n",
              "  0.9920555353164673,\n",
              "  0.9926851987838745,\n",
              "  0.9931296110153198,\n",
              "  0.9937777519226074,\n",
              "  0.9941296577453613,\n",
              "  0.9946296215057373,\n",
              "  0.9944815039634705,\n",
              "  0.9953703880310059,\n",
              "  0.9958703517913818,\n",
              "  0.9960926175117493,\n",
              "  0.9967963099479675,\n",
              "  0.9969074130058289,\n",
              "  0.9971481561660767,\n",
              "  0.9972777962684631,\n",
              "  0.9976666569709778,\n",
              "  0.9979259371757507,\n",
              "  0.9979629516601562,\n",
              "  0.9983333349227905,\n",
              "  0.9981851577758789,\n",
              "  0.9985370635986328,\n",
              "  0.9985926151275635,\n",
              "  0.9987592697143555,\n",
              "  0.9988333582878113,\n",
              "  0.9989073872566223,\n",
              "  0.9990741014480591,\n",
              "  0.9991296529769897,\n",
              "  0.9992777705192566,\n",
              "  0.9991852045059204,\n",
              "  0.9993518590927124,\n",
              "  0.9993148446083069],\n",
              " 'loss': [0.6606810092926025,\n",
              "  0.30064913630485535,\n",
              "  0.24880099296569824,\n",
              "  0.21511712670326233,\n",
              "  0.1892853081226349,\n",
              "  0.16897644102573395,\n",
              "  0.15210594236850739,\n",
              "  0.13782566785812378,\n",
              "  0.12603867053985596,\n",
              "  0.1157192587852478,\n",
              "  0.10662887990474701,\n",
              "  0.09909642487764359,\n",
              "  0.09172069281339645,\n",
              "  0.08567151427268982,\n",
              "  0.08015034347772598,\n",
              "  0.0751664787530899,\n",
              "  0.07066994905471802,\n",
              "  0.06591235846281052,\n",
              "  0.06244279071688652,\n",
              "  0.058757781982421875,\n",
              "  0.05552103742957115,\n",
              "  0.05248873680830002,\n",
              "  0.049583565443754196,\n",
              "  0.04680728539824486,\n",
              "  0.04428282752633095,\n",
              "  0.042032383382320404,\n",
              "  0.03982358053326607,\n",
              "  0.03778640553355217,\n",
              "  0.03576228767633438,\n",
              "  0.03382547199726105,\n",
              "  0.03215257078409195,\n",
              "  0.030358310788869858,\n",
              "  0.028942804783582687,\n",
              "  0.027379492297768593,\n",
              "  0.025989282876253128,\n",
              "  0.02464834786951542,\n",
              "  0.023667193949222565,\n",
              "  0.022304581478238106,\n",
              "  0.021184394136071205,\n",
              "  0.02020447887480259,\n",
              "  0.019128333777189255,\n",
              "  0.018271315842866898,\n",
              "  0.017398079857230186,\n",
              "  0.016635309904813766,\n",
              "  0.01572955958545208,\n",
              "  0.01505233533680439,\n",
              "  0.014309129677712917,\n",
              "  0.013676641508936882,\n",
              "  0.013025199994444847,\n",
              "  0.012416745536029339,\n",
              "  0.011933661997318268,\n",
              "  0.011356581933796406,\n",
              "  0.01091091986745596,\n",
              "  0.010479085147380829,\n",
              "  0.009990153834223747,\n",
              "  0.009491490200161934,\n",
              "  0.009090662933886051,\n",
              "  0.00880825612694025,\n",
              "  0.008454042486846447,\n",
              "  0.008067088201642036],\n",
              " 'val_accuracy': [0.9125000238418579,\n",
              "  0.9283333420753479,\n",
              "  0.9383333325386047,\n",
              "  0.9441666603088379,\n",
              "  0.9484999775886536,\n",
              "  0.9523333311080933,\n",
              "  0.9589999914169312,\n",
              "  0.9610000252723694,\n",
              "  0.9646666646003723,\n",
              "  0.9636666774749756,\n",
              "  0.9674999713897705,\n",
              "  0.9696666598320007,\n",
              "  0.9710000157356262,\n",
              "  0.971833348274231,\n",
              "  0.9721666574478149,\n",
              "  0.9728333353996277,\n",
              "  0.9729999899864197,\n",
              "  0.9753333330154419,\n",
              "  0.9735000133514404,\n",
              "  0.9753333330154419,\n",
              "  0.9756666421890259,\n",
              "  0.9760000109672546,\n",
              "  0.9764999747276306,\n",
              "  0.9754999876022339,\n",
              "  0.9745000004768372,\n",
              "  0.9763333201408386,\n",
              "  0.9769999980926514,\n",
              "  0.9768333435058594,\n",
              "  0.9776666760444641,\n",
              "  0.9766666889190674,\n",
              "  0.9775000214576721,\n",
              "  0.9776666760444641,\n",
              "  0.9778333306312561,\n",
              "  0.9775000214576721,\n",
              "  0.9781666398048401,\n",
              "  0.9766666889190674,\n",
              "  0.9778333306312561,\n",
              "  0.9779999852180481,\n",
              "  0.9778333306312561,\n",
              "  0.9779999852180481,\n",
              "  0.9783333539962769,\n",
              "  0.9779999852180481,\n",
              "  0.9763333201408386,\n",
              "  0.9783333539962769,\n",
              "  0.9776666760444641,\n",
              "  0.9779999852180481,\n",
              "  0.9773333072662354,\n",
              "  0.9771666526794434,\n",
              "  0.9775000214576721,\n",
              "  0.9775000214576721,\n",
              "  0.9776666760444641,\n",
              "  0.9778333306312561,\n",
              "  0.9779999852180481,\n",
              "  0.9789999723434448,\n",
              "  0.9776666760444641,\n",
              "  0.9781666398048401,\n",
              "  0.9771666526794434,\n",
              "  0.9779999852180481,\n",
              "  0.9773333072662354,\n",
              "  0.9778333306312561],\n",
              " 'val_loss': [0.32164785265922546,\n",
              "  0.25854185223579407,\n",
              "  0.22538582980632782,\n",
              "  0.1960677057504654,\n",
              "  0.17900943756103516,\n",
              "  0.16369828581809998,\n",
              "  0.14817063510417938,\n",
              "  0.14162111282348633,\n",
              "  0.13155497610569,\n",
              "  0.1272284835577011,\n",
              "  0.11571422219276428,\n",
              "  0.11176818609237671,\n",
              "  0.10568267852067947,\n",
              "  0.10046028345823288,\n",
              "  0.0990079715847969,\n",
              "  0.09438341110944748,\n",
              "  0.0933689996600151,\n",
              "  0.08927656710147858,\n",
              "  0.08934781700372696,\n",
              "  0.08737105131149292,\n",
              "  0.08632635325193405,\n",
              "  0.08376104384660721,\n",
              "  0.08294430375099182,\n",
              "  0.08241671323776245,\n",
              "  0.0833270475268364,\n",
              "  0.08115227520465851,\n",
              "  0.0771697461605072,\n",
              "  0.07720837742090225,\n",
              "  0.0760130062699318,\n",
              "  0.07855477184057236,\n",
              "  0.07515117526054382,\n",
              "  0.07735858112573624,\n",
              "  0.07641927897930145,\n",
              "  0.07645035535097122,\n",
              "  0.07485132664442062,\n",
              "  0.07982057332992554,\n",
              "  0.07534945756196976,\n",
              "  0.07583047449588776,\n",
              "  0.0749741792678833,\n",
              "  0.07561115175485611,\n",
              "  0.0752444788813591,\n",
              "  0.07688622176647186,\n",
              "  0.08206888288259506,\n",
              "  0.07552315294742584,\n",
              "  0.0756029412150383,\n",
              "  0.07608500868082047,\n",
              "  0.07659802585840225,\n",
              "  0.07686163485050201,\n",
              "  0.07760194689035416,\n",
              "  0.07897505909204483,\n",
              "  0.07676050812005997,\n",
              "  0.07603462040424347,\n",
              "  0.07784214615821838,\n",
              "  0.07613948732614517,\n",
              "  0.07789845019578934,\n",
              "  0.07878606021404266,\n",
              "  0.07917767018079758,\n",
              "  0.07735566049814224,\n",
              "  0.07982140779495239,\n",
              "  0.08038060367107391]}"
            ]
          },
          "metadata": {},
          "execution_count": 26
        }
      ],
      "source": [
        "model_history.history"
      ]
    },
    {
      "cell_type": "code",
      "execution_count": 27,
      "id": "886752e1",
      "metadata": {
        "id": "886752e1",
        "outputId": "2f9fc458-d796-43dc-e536-b621b857a6ea",
        "colab": {
          "base_uri": "https://localhost:8080/",
          "height": 324
        }
      },
      "outputs": [
        {
          "output_type": "display_data",
          "data": {
            "text/plain": [
              "<Figure size 576x360 with 1 Axes>"
            ],
            "image/png": "[encoded data removed]"
          },
          "metadata": {
            "needs_background": "light"
          }
        }
      ],
      "source": [
        "import pandas as pd \n",
        "pd.DataFrame(model_history.history).plot(figsize=(8,5))\n",
        "plt.grid(True)\n",
        "plt.gca().set_ylim(0,1)\n",
        "plt.show()"
      ]
    },
    {
      "cell_type": "code",
      "execution_count": 28,
      "id": "f761ca4e",
      "metadata": {
        "id": "f761ca4e",
        "outputId": "06bc3b7b-e5f9-4d5f-a04b-1ee7ac540867",
        "colab": {
          "base_uri": "https://localhost:8080/"
        }
      },
      "outputs": [
        {
          "output_type": "stream",
          "name": "stdout",
          "text": [
            "1688/1688 [==============================] - 3s 2ms/step - loss: 0.0073 - accuracy: 0.9996\n"
          ]
        },
        {
          "output_type": "execute_result",
          "data": {
            "text/plain": [
              "[0.007279264274984598, 0.9995926022529602]"
            ]
          },
          "metadata": {},
          "execution_count": 28
        }
      ],
      "source": [
        "model.evaluate(x_train,y_train)"
      ]
    },
    {
      "cell_type": "code",
      "execution_count": 29,
      "id": "4b4be0d2",
      "metadata": {
        "id": "4b4be0d2"
      },
      "outputs": [],
      "source": [
        "x_new=x_test[:5]"
      ]
    },
    {
      "cell_type": "code",
      "execution_count": 30,
      "id": "4c397e05",
      "metadata": {
        "id": "4c397e05",
        "outputId": "47f3566c-610c-40fa-c0a7-f09484e63a70",
        "colab": {
          "base_uri": "https://localhost:8080/"
        }
      },
      "outputs": [
        {
          "output_type": "execute_result",
          "data": {
            "text/plain": [
              "array([[0., 0., 0., 0., 0., 0., 0., 1., 0., 0.],\n",
              "       [0., 0., 1., 0., 0., 0., 0., 0., 0., 0.],\n",
              "       [0., 1., 0., 0., 0., 0., 0., 0., 0., 0.],\n",
              "       [1., 0., 0., 0., 0., 0., 0., 0., 0., 0.],\n",
              "       [0., 0., 0., 0., 1., 0., 0., 0., 0., 0.]], dtype=float32)"
            ]
          },
          "metadata": {},
          "execution_count": 30
        }
      ],
      "source": [
        "y_proba=model.predict(x_new)\n",
        "y_proba.round(2)"
      ]
    },
    {
      "cell_type": "code",
      "execution_count": 31,
      "id": "f6b72b60",
      "metadata": {
        "id": "f6b72b60",
        "outputId": "c1fe07c3-38cb-45b4-cfe5-a5a5526678ff",
        "colab": {
          "base_uri": "https://localhost:8080/"
        }
      },
      "outputs": [
        {
          "output_type": "execute_result",
          "data": {
            "text/plain": [
              "array([7, 2, 1, 0, 4])"
            ]
          },
          "metadata": {},
          "execution_count": 31
        }
      ],
      "source": [
        "y_pred=np.argmax(model.predict(x_new),axis=1)\n",
        "y_pred"
      ]
    },
    {
      "cell_type": "code",
      "execution_count": 32,
      "id": "2beda15c",
      "metadata": {
        "id": "2beda15c",
        "outputId": "d3a2405c-1c0a-42bf-88cc-393aba0e4e91",
        "colab": {
          "base_uri": "https://localhost:8080/"
        }
      },
      "outputs": [
        {
          "output_type": "execute_result",
          "data": {
            "text/plain": [
              "array(['7', '2', '1', '0', '4'], dtype='<U1')"
            ]
          },
          "metadata": {},
          "execution_count": 32
        }
      ],
      "source": [
        "np.array(class_names)[y_pred]"
      ]
    },
    {
      "cell_type": "code",
      "execution_count": 33,
      "id": "d849d042",
      "metadata": {
        "id": "d849d042",
        "outputId": "f86db2bb-133b-47ce-de9f-482d17812258",
        "colab": {
          "base_uri": "https://localhost:8080/",
          "height": 283
        }
      },
      "outputs": [
        {
          "output_type": "stream",
          "name": "stdout",
          "text": [
            "AxesImage(54,36;334.8x217.44)\n"
          ]
        },
        {
          "output_type": "display_data",
          "data": {
            "text/plain": [
              "<Figure size 432x288 with 1 Axes>"
            ],
            "image/png": "[encoded data removed]"
          },
          "metadata": {
            "needs_background": "light"
          }
        }
      ],
      "source": [
        "print(plt.imshow(x_test[0]))"
      ]
    },
    {
      "cell_type": "code",
      "execution_count": 34,
      "id": "ac8d5fee",
      "metadata": {
        "id": "ac8d5fee",
        "outputId": "3329354a-363c-4365-b8f9-5d15dcb9c3b7",
        "colab": {
          "base_uri": "https://localhost:8080/",
          "height": 283
        }
      },
      "outputs": [
        {
          "output_type": "stream",
          "name": "stdout",
          "text": [
            "AxesImage(54,36;334.8x217.44)\n"
          ]
        },
        {
          "output_type": "display_data",
          "data": {
            "text/plain": [
              "<Figure size 432x288 with 1 Axes>"
            ],
            "image/png": "[encoded data removed]"
          },
          "metadata": {
            "needs_background": "light"
          }
        }
      ],
      "source": [
        "print(plt.imshow(x_test[1]))"
      ]
    },
    {
      "cell_type": "code",
      "execution_count": 36,
      "id": "34946c66",
      "metadata": {
        "id": "34946c66",
        "outputId": "e52e1f67-67ef-4e03-bd5e-0396f0bd1d74",
        "colab": {
          "base_uri": "https://localhost:8080/",
          "height": 283
        }
      },
      "outputs": [
        {
          "output_type": "stream",
          "name": "stdout",
          "text": [
            "AxesImage(54,36;334.8x217.44)\n"
          ]
        },
        {
          "output_type": "display_data",
          "data": {
            "text/plain": [
              "<Figure size 432x288 with 1 Axes>"
            ],
            "image/png": "[encoded data removed]"
          },
          "metadata": {
            "needs_background": "light"
          }
        }
      ],
      "source": [
        "print(plt.imshow(x_test[2]))"
      ]
    },
    {
      "cell_type": "code",
      "execution_count": 37,
      "id": "7816322d",
      "metadata": {
        "id": "7816322d",
        "outputId": "752bdd53-c97a-44a5-e5f6-326abd24a29f",
        "colab": {
          "base_uri": "https://localhost:8080/",
          "height": 283
        }
      },
      "outputs": [
        {
          "output_type": "stream",
          "name": "stdout",
          "text": [
            "AxesImage(54,36;334.8x217.44)\n"
          ]
        },
        {
          "output_type": "display_data",
          "data": {
            "text/plain": [
              "<Figure size 432x288 with 1 Axes>"
            ],
            "image/png": "[encoded data removed]"
          },
          "metadata": {
            "needs_background": "light"
          }
        }
      ],
      "source": [
        "print(plt.imshow(x_test[3]))"
      ]
    },
    {
      "cell_type": "code",
      "execution_count": 35,
      "id": "403ddf55",
      "metadata": {
        "id": "403ddf55",
        "outputId": "250df86d-bdcd-4e51-ac1f-14c9c0774095",
        "colab": {
          "base_uri": "https://localhost:8080/",
          "height": 283
        }
      },
      "outputs": [
        {
          "output_type": "stream",
          "name": "stdout",
          "text": [
            "AxesImage(54,36;334.8x217.44)\n"
          ]
        },
        {
          "output_type": "display_data",
          "data": {
            "text/plain": [
              "<Figure size 432x288 with 1 Axes>"
            ],
            "image/png": "[encoded data removed]"
          },
          "metadata": {
            "needs_background": "light"
          }
        }
      ],
      "source": [
        "print(plt.imshow(x_test[4]))"
      ]
    },
    {
      "cell_type": "code",
      "execution_count": null,
      "id": "2cb0b066",
      "metadata": {
        "id": "2cb0b066"
      },
      "outputs": [],
      "source": [
        ""
      ]
    }
  ],
  "metadata": {
    "kernelspec": {
      "display_name": "Python 3 (ipykernel)",
      "language": "python",
      "name": "python3"
    },
    "language_info": {
      "codemirror_mode": {
        "name": "ipython",
        "version": 3
      },
      "file_extension": ".py",
      "mimetype": "text/x-python",
      "name": "python",
      "nbconvert_exporter": "python",
      "pygments_lexer": "ipython3",
      "version": "3.9.12"
    },
    "colab": {
      "name": "Digit Classifier.ipynb",
      "provenance": [],
      "include_colab_link": true
    }
  },
  "nbformat": 4,
  "nbformat_minor": 5
}